{
 "cells": [
  {
   "cell_type": "code",
   "execution_count": null,
   "metadata": {},
   "outputs": [],
   "source": [
    "import torch\n",
    "\n",
    "from llava.constants import IMAGE_TOKEN_INDEX, DEFAULT_IMAGE_TOKEN, DEFAULT_IM_START_TOKEN, DEFAULT_IM_END_TOKEN\n",
    "from llava.conversation import conv_templates, SeparatorStyle\n",
    "from llava.model.builder import load_pretrained_model\n",
    "from llava.utils import disable_torch_init\n",
    "from llava.mm_utils import process_images, tokenizer_image_token, get_model_name_from_path, KeywordsStoppingCriteria\n",
    "from transformers import TextStreamer\n",
    "\n",
    "from PIL import Image\n",
    "\n",
    "def load_image(image_file):\n",
    "    image = Image.open(image_file).convert('RGB')\n",
    "    return image\n",
    "\n",
    "\n",
    "disable_torch_init()\n",
    "\n",
    "model_path= \"microsoft/llava-med-v1.5-mistral-7b\"\n",
    "\n",
    "model_name = get_model_name_from_path(model_path)\n",
    "tokenizer, model, image_processor, context_len = load_pretrained_model(model_path, None, model_name, load_8bit=False, load_4bit=False, device=\"cuda\")"
   ]
  },
  {
   "cell_type": "code",
   "execution_count": 27,
   "metadata": {},
   "outputs": [
    {
     "name": "stderr",
     "output_type": "stream",
     "text": [
      "The attention mask and the pad token id were not set. As a consequence, you may observe unexpected behavior. Please pass your input's `attention_mask` to obtain reliable results.\n",
      "Setting `pad_token_id` to `eos_token_id`:2 for open-end generation.\n"
     ]
    }
   ],
   "source": [
    "\n",
    "def run_llava(image_file=\"fracture.jpg\"):\n",
    "    disable_torch_init()\n",
    "\n",
    "\n",
    "    conv_mode = \"mistral_instruct\"\n",
    "    roles = ('USER', 'ASSISTANT')\n",
    "\n",
    "    image = load_image(image_file)\n",
    "    image_tensor = process_images([image], image_processor, model.config)\n",
    "    image_tensor = image_tensor.to(model.device, dtype=torch.float16)\n",
    "\n",
    "    # User input (replace with your actual user input)\n",
    "    inp = \"what do you see in the image\"\n",
    "\n",
    "    conv = conv_templates[conv_mode].copy()\n",
    "    if \"mpt\" in model_name.lower():\n",
    "        roles = ('user', 'assistant')\n",
    "    else:\n",
    "        roles = conv.roles\n",
    "\n",
    "    # Prepare conversation\n",
    "    if image is not None:\n",
    "        # first message\n",
    "        if model.config.mm_use_im_start_end:\n",
    "            inp = DEFAULT_IM_START_TOKEN + DEFAULT_IMAGE_TOKEN + DEFAULT_IM_END_TOKEN + '\\n' + inp\n",
    "        else:\n",
    "            inp = DEFAULT_IMAGE_TOKEN + '\\n' + inp\n",
    "        conv.append_message(conv.roles[0], inp)\n",
    "        image = None\n",
    "    else:\n",
    "        # later messages\n",
    "        conv.append_message(conv.roles[0], inp)\n",
    "    conv.append_message(conv.roles[1], None)\n",
    "    prompt = conv.get_prompt()\n",
    "\n",
    "    # Generate response\n",
    "    input_ids = tokenizer_image_token(prompt, tokenizer, IMAGE_TOKEN_INDEX, return_tensors='pt').unsqueeze(0).to(model.device)\n",
    "    stop_str = conv.sep if conv.sep_style != SeparatorStyle.TWO else conv.sep2\n",
    "    keywords = [stop_str]\n",
    "    stopping_criteria = KeywordsStoppingCriteria(keywords, tokenizer, input_ids)\n",
    "    #streamer = TextStreamer(tokenizer, skip_prompt=True, skip_special_tokens=True)\n",
    "\n",
    "    with torch.inference_mode():\n",
    "        output_ids = model.generate(\n",
    "            input_ids,\n",
    "            images=image_tensor,\n",
    "            #do_sample=True,\n",
    "            temperature=0.0,\n",
    "            max_new_tokens=512,\n",
    "            #streamer=streamer,\n",
    "            #use_cache=True,\n",
    "            #stopping_criteria=[stopping_criteria]\n",
    "            )\n",
    "\n",
    "    output = tokenizer.batch_decode(output_ids, skip_special_tokens=True)\n",
    "\n",
    "    return output[0],image\n",
    "\n",
    "output,image = run_llava(\"fracture.jpg\")"
   ]
  },
  {
   "cell_type": "code",
   "execution_count": 28,
   "metadata": {},
   "outputs": [
    {
     "data": {
      "text/plain": [
       "'The image is a lateral radiograph of the left ankle. It shows a fracture of the lateral malleolus, which is the bony prominence on the outer side of the ankle. Additionally, there is a small amount of soft tissue swelling present. '"
      ]
     },
     "execution_count": 28,
     "metadata": {},
     "output_type": "execute_result"
    }
   ],
   "source": [
    "output"
   ]
  },
  {
   "cell_type": "code",
   "execution_count": 26,
   "metadata": {},
   "outputs": [
    {
     "data": {
      "text/plain": [
       "'The image is a lateral radiograph of the left ankle. It shows a fracture of the lateral malleolus, which is the bony prominence on the outer side of the ankle. Additionally, there is a small amount of soft tissue swelling present. '"
      ]
     },
     "execution_count": 26,
     "metadata": {},
     "output_type": "execute_result"
    }
   ],
   "source": [
    "output "
   ]
  },
  {
   "cell_type": "code",
   "execution_count": 24,
   "metadata": {},
   "outputs": [],
   "source": [
    "image"
   ]
  }
 ],
 "metadata": {
  "kernelspec": {
   "display_name": "llava-med",
   "language": "python",
   "name": "python3"
  },
  "language_info": {
   "codemirror_mode": {
    "name": "ipython",
    "version": 3
   },
   "file_extension": ".py",
   "mimetype": "text/x-python",
   "name": "python",
   "nbconvert_exporter": "python",
   "pygments_lexer": "ipython3",
   "version": "3.10.14"
  }
 },
 "nbformat": 4,
 "nbformat_minor": 2
}
